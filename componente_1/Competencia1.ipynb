{
  "cells": [
    {
      "cell_type": "markdown",
      "id": "8d8f3c33-54da-4cef-8c39-39ccc3388142",
      "metadata": {
        "id": "8d8f3c33-54da-4cef-8c39-39ccc3388142"
      },
      "source": [
        "## Configuração do ambiente\n",
        "\n",
        "A recuperação do corpus foi feita utilizando git no terminal"
      ]
    },
    {
      "cell_type": "code",
      "execution_count": null,
      "id": "eeb5050a-0784-4c65-bd7d-f32106c3da3f",
      "metadata": {
        "id": "eeb5050a-0784-4c65-bd7d-f32106c3da3f",
        "outputId": "656ae1ad-cb01-461d-c83f-4c2839ed76f7"
      },
      "outputs": [
        {
          "name": "stdout",
          "output_type": "stream",
          "text": [
            "D:\\!pln\\trab\\essay-br\n"
          ]
        }
      ],
      "source": [
        "%cd essay-br"
      ]
    },
    {
      "cell_type": "code",
      "execution_count": null,
      "id": "97ae3699-a6a2-4a1c-9679-c90735dad773",
      "metadata": {
        "id": "97ae3699-a6a2-4a1c-9679-c90735dad773",
        "outputId": "c4cec943-3b0b-4e76-dc4a-1a506ff72bc4"
      },
      "outputs": [
        {
          "name": "stdout",
          "output_type": "stream",
          "text": [
            "Requirement already satisfied: pandas in d:\\anaconda\\lib\\site-packages (from -r requirements.txt (line 1)) (2.2.2)\n",
            "Requirement already satisfied: scikit-learn in d:\\anaconda\\lib\\site-packages (from -r requirements.txt (line 2)) (1.4.2)\n",
            "Requirement already satisfied: numpy>=1.26.0 in d:\\anaconda\\lib\\site-packages (from pandas->-r requirements.txt (line 1)) (1.26.4)\n",
            "Requirement already satisfied: python-dateutil>=2.8.2 in d:\\anaconda\\lib\\site-packages (from pandas->-r requirements.txt (line 1)) (2.9.0.post0)\n",
            "Requirement already satisfied: pytz>=2020.1 in d:\\anaconda\\lib\\site-packages (from pandas->-r requirements.txt (line 1)) (2024.1)\n",
            "Requirement already satisfied: tzdata>=2022.7 in d:\\anaconda\\lib\\site-packages (from pandas->-r requirements.txt (line 1)) (2023.3)\n",
            "Requirement already satisfied: scipy>=1.6.0 in d:\\anaconda\\lib\\site-packages (from scikit-learn->-r requirements.txt (line 2)) (1.13.1)\n",
            "Requirement already satisfied: joblib>=1.2.0 in d:\\anaconda\\lib\\site-packages (from scikit-learn->-r requirements.txt (line 2)) (1.4.2)\n",
            "Requirement already satisfied: threadpoolctl>=2.0.0 in d:\\anaconda\\lib\\site-packages (from scikit-learn->-r requirements.txt (line 2)) (2.2.0)\n",
            "Requirement already satisfied: six>=1.5 in d:\\anaconda\\lib\\site-packages (from python-dateutil>=2.8.2->pandas->-r requirements.txt (line 1)) (1.16.0)\n"
          ]
        }
      ],
      "source": [
        "!pip install -r requirements.txt"
      ]
    },
    {
      "cell_type": "code",
      "execution_count": null,
      "id": "72d721ca-89cb-493c-9908-3ef8b2b587aa",
      "metadata": {
        "id": "72d721ca-89cb-493c-9908-3ef8b2b587aa",
        "outputId": "831b1bc2-a218-4d94-e6f6-f72d30a23ec5"
      },
      "outputs": [
        {
          "name": "stdout",
          "output_type": "stream",
          "text": [
            "D:\\!pln\\trab\\essay-br\\extended-corpus\n"
          ]
        }
      ],
      "source": [
        "%cd extended-corpus"
      ]
    },
    {
      "cell_type": "code",
      "execution_count": null,
      "id": "351cb18f-0208-4570-b824-ce4750421d1a",
      "metadata": {
        "id": "351cb18f-0208-4570-b824-ce4750421d1a",
        "outputId": "435498a7-3d3b-4ba0-bce8-2b02a16771ee"
      },
      "outputs": [
        {
          "name": "stdout",
          "output_type": "stream",
          "text": [
            "Redações:\n",
            "       prompt                                              title  \\\n",
            "5973     112  Diminuição da maioridade penal é mesmo a solução?   \n",
            "6323     134                              O poder emana do povo   \n",
            "3880      15                                Corpo humano em dia   \n",
            "2812      83                                    Esporte é saúde   \n",
            "6473     144                                 Luta por Igualdade   \n",
            "3052      83  O desenvolvimento atrelado as* práticas esport...   \n",
            "6488     145                                    Copa para quem?   \n",
            "5265      91      A doença do negacionismo científico no Brasil   \n",
            "1411       9                              Educação é para todos   \n",
            "3366      75                             O direito à autodefesa   \n",
            "2727      49                o papel dos influenciadores digitas   \n",
            "5729      96                              A Aids e seu contágio   \n",
            "4879      87                                                NaN   \n",
            "1965      82                         Problemas da automedicação   \n",
            "4173      44                           Brasil mostra a sua cara   \n",
            "2150      75                Ao armar a população o crime cresce   \n",
            "4321      46                            Privatizar é a solução?   \n",
            "676        6                      Problemas ambientais críticos   \n",
            "3656      50         Combate ao coronavírus por meio da ciência   \n",
            "4374      43                                       acm cancelar   \n",
            "\n",
            "                                                  essay   c1   c2   c3   c4  \\\n",
            "5973  ['Atualmente, uma das notícias                ...   80   80  120  120   \n",
            "6323  ['Juntamente com a Copa das          Confedera...  160  200  120  160   \n",
            "3880  ['Tudo em excesso faz mal. Com a alimentação n...  160  160  160  160   \n",
            "2812  ['Nos dias atuais, vemos que a prática de espo...  120  120  120  160   \n",
            "6473  ['A independência tem sido a maior luta da mul...  160  160  160  160   \n",
            "3052  ['O esporte, desde os tempos mais remotos, dem...  120  160  160  200   \n",
            "6488  ['O                 sediamento                ...   80  120   80   80   \n",
            "5265  ['O sarampo, famoso pelo sintoma de manchas ve...  160  160  160  200   \n",
            "1411  ['De fato, as discussões sobre o corte de verb...  120  120   80  120   \n",
            "3366  ['O aumento da criminalidade no Brasil tem ger...  160  120  120  160   \n",
            "2727  ['Influenciadores digitas: são pessoas famosas...  120  160  120  160   \n",
            "5729  ['É sabido por todos que a Aids é uma doença s...  120  120   80   80   \n",
            "4879  ['É indubitável que a cultura de erotização in...  200  120  120  200   \n",
            "1965  ['A automedicação é um hábito popular entre os...  120  120  120  120   \n",
            "4173  ['Na Grécia Antiga foi cunhado conceito de cid...  160  160  160  200   \n",
            "2150  ['A livre posse de armas de fogo para civis,  ...  120  120  120  120   \n",
            "4321  ['Na obra “Quarto de despejo”, de Carolina Mar...  160  200  160  200   \n",
            "676   ['Muito se tem discutido e comentado sobre os ...  120   80   80   80   \n",
            "3656  ['No filme” Eu sou a lenda” retrata a história...  160  160  120  160   \n",
            "4374  ['Segundo o sociólogo Zygmunt Bauman, a conexã...  160  200  160  200   \n",
            "\n",
            "       c5  score  \n",
            "5973  120    520  \n",
            "6323  120    760  \n",
            "3880  160    800  \n",
            "2812  200    720  \n",
            "6473  160    800  \n",
            "3052  200    840  \n",
            "6488   80    440  \n",
            "5265  160    840  \n",
            "1411  120    560  \n",
            "3366  120    680  \n",
            "2727  120    680  \n",
            "5729   80    480  \n",
            "4879  160    800  \n",
            "1965  120    600  \n",
            "4173  160    840  \n",
            "2150  120    600  \n",
            "4321  160    880  \n",
            "676    80    440  \n",
            "3656  120    720  \n",
            "4374  200    920  \n",
            "\n",
            "Temas:\n",
            "       id                                              title  \\\n",
            "54    54         A importância das vacinas para a sociedade   \n",
            "116  116  Enchentes: o excesso de chuvas  o nico respons...   \n",
            "48    48  SUS: desafios e importância da saúde pública n...   \n",
            "73    73  Caminhos para superar os desafios encontrados ...   \n",
            "21    21  O Brasil paralisado: o que você pensa sobre a ...   \n",
            "115  115       vlido simplificar a linguagem de um clssico?   \n",
            "136  136                 O voto nulo  um ato poltico vlido?   \n",
            "130  130      O conflito entre geraes e a convivncia social   \n",
            "133  133     O papel do Estado na vida do cidado e das naes   \n",
            "147  147  Reforma poltica no Brasil: qual o melhor model...   \n",
            "15    15          Epidemia alimentar: sobrepeso e obesidade   \n",
            "94    94                  Autismo: Desafios para a inclusão   \n",
            "24    24             Violência e drogas: o papel do usuário   \n",
            "74    74  Feminicídio no Brasil: um debate importante so...   \n",
            "123  123  Justia x Vingana: como no confundir as duas co...   \n",
            "59    59  Fome: um retrato da desigualdade social no Brasil   \n",
            "118  118  Experincias com animais e violncia em manifestaes   \n",
            "68    68          Por que valorizar o patrimônio histórico?   \n",
            "22    22                     O direito ao foro privilegiado   \n",
            "101  101  A sociedade est perdendo a batalha contra o cr...   \n",
            "\n",
            "                                           description             category  \n",
            "54   Vacinas são substâncias que possuem como funçã...                saúde  \n",
            "116  Um ano aps o deslizamento de terras que matou ...        meio ambiente  \n",
            "48   O Sistema Único de Saúde (SUS) é a denominação...                saúde  \n",
            "73   Título II (Dos Direitos e Garantias Fundamenta...  sociedade e cultura  \n",
            "21   ['Nas últimas semanas de maio, uma paralisação...             política  \n",
            "115  Em meados de 2014, uma polmica agitou os meios...             educação  \n",
            "136  No dia 12 de julho deste ano, o jornal Folha d...             política  \n",
            "130  A convivncia entre diferentes , quase sempre, ...  sociedade e cultura  \n",
            "133  \"Voc s olha da esquerda para a direita, o Esta...             política  \n",
            "147  Poltica  um tema evitado por muitos brasileiro...             política  \n",
            "15   ['Ninguém consegue viver sem comer. Isso é óbv...                saúde  \n",
            "94   ['Texto 1: O transtorno do espectro do autismo...  sociedade e cultura  \n",
            "24   ['Devido à explosão da violência, principalmen...            segurança  \n",
            "74   Feminicídio é o assassinato de uma mulher pela...            segurança  \n",
            "123  Grande comemorao ocorreu nos Estados Unidos, q...  sociedade e cultura  \n",
            "59   A fome é a situação na qual a alimentação que ...             economia  \n",
            "118  No ms de outubro passado, um protesto contra a...  sociedade e cultura  \n",
            "68   Em seu significado mais primitivo, a palavra p...  sociedade e cultura  \n",
            "22   ['O foro privilegiado – benefício que permite ...             política  \n",
            "101  Frequentemente, conflitos armados entre polcia...            segurança  \n"
          ]
        }
      ],
      "source": [
        "import pandas as pd\n",
        "\n",
        "df_redacoes = pd.read_csv(\"extended_essay-br.csv\")\n",
        "df_temas = pd.read_csv(\"prompts.csv\")\n",
        "\n",
        "print(\"Redações:\\n\", df_redacoes.sample(n=20))\n",
        "print(\"\\nTemas:\\n\", df_temas.sample(n=20))"
      ]
    },
    {
      "cell_type": "code",
      "execution_count": null,
      "id": "9a018851-e304-40fd-ae89-bd2bcfc6bb7d",
      "metadata": {
        "id": "9a018851-e304-40fd-ae89-bd2bcfc6bb7d",
        "outputId": "9354c062-d092-43c4-e5ed-85f3425937b0"
      },
      "outputs": [
        {
          "name": "stdout",
          "output_type": "stream",
          "text": [
            "Quantidade de notas na competência 1: 6577\n",
            "\n",
            "Distribuição das notas na competência 1:\n",
            "c1\n",
            "0       107\n",
            "40       24\n",
            "80      524\n",
            "120    3145\n",
            "160    2483\n",
            "200     294\n",
            "Name: count, dtype: int64\n"
          ]
        }
      ],
      "source": [
        "qtd_c1 = df_redacoes['c1'].count()\n",
        "distribuicao_c1 = df_redacoes['c1'].value_counts().sort_index()\n",
        "\n",
        "print(f\"Quantidade de notas na competência 1: {qtd_c1}\")\n",
        "print(\"\\nDistribuição das notas na competência 1:\")\n",
        "print(distribuicao_c1)"
      ]
    },
    {
      "cell_type": "markdown",
      "id": "e67e35ba-f9be-4cdb-b3aa-13047b566edb",
      "metadata": {
        "id": "e67e35ba-f9be-4cdb-b3aa-13047b566edb"
      },
      "source": [
        "## Análise Ortográfica\n",
        "\n",
        "Inicialmente, há a análise ortográfica das palavras do texto utilizando spellchecker\n",
        "\n",
        "A função analise_ortografica() recebe um dataframe contendo redações a serem analisadas e retorna um dataframe contendo o texto analisado e a nota (de 0 a 5) associada com o texto.\n",
        "Há um pré-processamento na função que transforma todas as letras em minúsculas e remove os sinais de pontuação, substituindo-os por espaços em branco."
      ]
    },
    {
      "cell_type": "code",
      "execution_count": null,
      "id": "f498885c-81a1-487e-8e7c-d5d4447173ee",
      "metadata": {
        "id": "f498885c-81a1-487e-8e7c-d5d4447173ee"
      },
      "outputs": [],
      "source": [
        "import pandas as pd\n",
        "from spellchecker import SpellChecker\n",
        "import random\n",
        "import string\n",
        "\n",
        "def limpar_pontuacao(texto):\n",
        "    texto_limpo = str.maketrans({char: ' ' for char in string.punctuation})\n",
        "    return texto.translate(texto_limpo)\n",
        "\n",
        "def analise_ortografica(df):\n",
        "    spell = SpellChecker(language='pt')  # Para português\n",
        "    amostra = df['essay']\n",
        "\n",
        "    resultados = []\n",
        "    for texto in amostra:\n",
        "        texto_limpo = limpar_pontuacao(texto.lower())\n",
        "        palavras = texto_limpo.split()\n",
        "        total = len(palavras)\n",
        "        erros = spell.unknown(palavras)\n",
        "        if total != 0:\n",
        "            nota = 5 * (1 - len(erros)/total)\n",
        "        else:\n",
        "            nota = 0\n",
        "        resultados.append({\n",
        "            'texto': texto,\n",
        "            'nota_ortografia': round(nota, 2)\n",
        "        })\n",
        "\n",
        "    return pd.DataFrame(resultados)"
      ]
    },
    {
      "cell_type": "code",
      "execution_count": null,
      "id": "4e1cd545-290a-4380-9d0c-fbfad32b5cc7",
      "metadata": {
        "id": "4e1cd545-290a-4380-9d0c-fbfad32b5cc7",
        "outputId": "466d33f4-e32e-460b-eb49-88de4ebb4020"
      },
      "outputs": [
        {
          "data": {
            "text/html": [
              "<div>\n",
              "<style scoped>\n",
              "    .dataframe tbody tr th:only-of-type {\n",
              "        vertical-align: middle;\n",
              "    }\n",
              "\n",
              "    .dataframe tbody tr th {\n",
              "        vertical-align: top;\n",
              "    }\n",
              "\n",
              "    .dataframe thead th {\n",
              "        text-align: right;\n",
              "    }\n",
              "</style>\n",
              "<table border=\"1\" class=\"dataframe\">\n",
              "  <thead>\n",
              "    <tr style=\"text-align: right;\">\n",
              "      <th></th>\n",
              "      <th>texto</th>\n",
              "      <th>nota_ortografia</th>\n",
              "    </tr>\n",
              "  </thead>\n",
              "  <tbody>\n",
              "    <tr>\n",
              "      <th>0</th>\n",
              "      <td>['A violência vem crescendo cada vez mais, lev...</td>\n",
              "      <td>4.94</td>\n",
              "    </tr>\n",
              "    <tr>\n",
              "      <th>1</th>\n",
              "      <td>['O trânsito está cada vez mais caótico, princ...</td>\n",
              "      <td>5.00</td>\n",
              "    </tr>\n",
              "    <tr>\n",
              "      <th>2</th>\n",
              "      <td>['Melhorar a educação sem valorizar o professo...</td>\n",
              "      <td>4.97</td>\n",
              "    </tr>\n",
              "    <tr>\n",
              "      <th>3</th>\n",
              "      <td>['Vimos recentemente o caso de uma mãe que des...</td>\n",
              "      <td>4.86</td>\n",
              "    </tr>\n",
              "    <tr>\n",
              "      <th>4</th>\n",
              "      <td>[\"Segundo declarou o líder sul - africano , Ne...</td>\n",
              "      <td>4.93</td>\n",
              "    </tr>\n",
              "    <tr>\n",
              "      <th>5</th>\n",
              "      <td>['Há muito tempo,jornais,televisões e revistas...</td>\n",
              "      <td>4.94</td>\n",
              "    </tr>\n",
              "    <tr>\n",
              "      <th>6</th>\n",
              "      <td>['É instigante dizer que em pleno século XXI p...</td>\n",
              "      <td>4.83</td>\n",
              "    </tr>\n",
              "    <tr>\n",
              "      <th>7</th>\n",
              "      <td>['Devido ao processo de compressão espaço-temp...</td>\n",
              "      <td>4.93</td>\n",
              "    </tr>\n",
              "    <tr>\n",
              "      <th>8</th>\n",
              "      <td>['A demarcação de terras é um meio que deve se...</td>\n",
              "      <td>4.92</td>\n",
              "    </tr>\n",
              "    <tr>\n",
              "      <th>9</th>\n",
              "      <td>['O virús \"A H1N1\" conhecido popularmente como...</td>\n",
              "      <td>4.70</td>\n",
              "    </tr>\n",
              "    <tr>\n",
              "      <th>10</th>\n",
              "      <td>['Motivação.Autoconfiança.Interação humana.For...</td>\n",
              "      <td>4.98</td>\n",
              "    </tr>\n",
              "    <tr>\n",
              "      <th>11</th>\n",
              "      <td>['As eleições se aproximam e ao longo da histó...</td>\n",
              "      <td>4.98</td>\n",
              "    </tr>\n",
              "    <tr>\n",
              "      <th>12</th>\n",
              "      <td>['De acordo com os conhecimentos adquiridos ao...</td>\n",
              "      <td>4.96</td>\n",
              "    </tr>\n",
              "    <tr>\n",
              "      <th>13</th>\n",
              "      <td>['O atual perfil político do Brasil reflete o ...</td>\n",
              "      <td>4.94</td>\n",
              "    </tr>\n",
              "    <tr>\n",
              "      <th>14</th>\n",
              "      <td>['Embora o Brasil seja um dos países com maior...</td>\n",
              "      <td>4.95</td>\n",
              "    </tr>\n",
              "    <tr>\n",
              "      <th>15</th>\n",
              "      <td>['Atualmente, há incentivos para o início da v...</td>\n",
              "      <td>5.00</td>\n",
              "    </tr>\n",
              "    <tr>\n",
              "      <th>16</th>\n",
              "      <td>['Atualmente, vivemos em uma ditadura de padrõ...</td>\n",
              "      <td>4.87</td>\n",
              "    </tr>\n",
              "    <tr>\n",
              "      <th>17</th>\n",
              "      <td>[\"Segundo a lei da inércia, de Isaac Newton: '...</td>\n",
              "      <td>4.92</td>\n",
              "    </tr>\n",
              "    <tr>\n",
              "      <th>18</th>\n",
              "      <td>['Ao se discutir sobre o tema da saúde da popu...</td>\n",
              "      <td>4.91</td>\n",
              "    </tr>\n",
              "    <tr>\n",
              "      <th>19</th>\n",
              "      <td>['A fome é um dos reflexos da ignorância do ho...</td>\n",
              "      <td>4.99</td>\n",
              "    </tr>\n",
              "  </tbody>\n",
              "</table>\n",
              "</div>"
            ],
            "text/plain": [
              "                                                texto  nota_ortografia\n",
              "0   ['A violência vem crescendo cada vez mais, lev...             4.94\n",
              "1   ['O trânsito está cada vez mais caótico, princ...             5.00\n",
              "2   ['Melhorar a educação sem valorizar o professo...             4.97\n",
              "3   ['Vimos recentemente o caso de uma mãe que des...             4.86\n",
              "4   [\"Segundo declarou o líder sul - africano , Ne...             4.93\n",
              "5   ['Há muito tempo,jornais,televisões e revistas...             4.94\n",
              "6   ['É instigante dizer que em pleno século XXI p...             4.83\n",
              "7   ['Devido ao processo de compressão espaço-temp...             4.93\n",
              "8   ['A demarcação de terras é um meio que deve se...             4.92\n",
              "9   ['O virús \"A H1N1\" conhecido popularmente como...             4.70\n",
              "10  ['Motivação.Autoconfiança.Interação humana.For...             4.98\n",
              "11  ['As eleições se aproximam e ao longo da histó...             4.98\n",
              "12  ['De acordo com os conhecimentos adquiridos ao...             4.96\n",
              "13  ['O atual perfil político do Brasil reflete o ...             4.94\n",
              "14  ['Embora o Brasil seja um dos países com maior...             4.95\n",
              "15  ['Atualmente, há incentivos para o início da v...             5.00\n",
              "16  ['Atualmente, vivemos em uma ditadura de padrõ...             4.87\n",
              "17  [\"Segundo a lei da inércia, de Isaac Newton: '...             4.92\n",
              "18  ['Ao se discutir sobre o tema da saúde da popu...             4.91\n",
              "19  ['A fome é um dos reflexos da ignorância do ho...             4.99"
            ]
          },
          "execution_count": 48,
          "metadata": {},
          "output_type": "execute_result"
        }
      ],
      "source": [
        "df_total = pd.read_csv(\"extended_essay-br.csv\")\n",
        "amostra = df_total.dropna().sample(n=20)\n",
        "analise_ortografica(amostra)"
      ]
    },
    {
      "cell_type": "markdown",
      "id": "a20e978d-4abe-491f-a6dc-1ac236644879",
      "metadata": {
        "id": "a20e978d-4abe-491f-a6dc-1ac236644879"
      },
      "source": [
        "## Análise Gramatical\n",
        "A análise gramatical é feita utilizando language_tool_python."
      ]
    },
    {
      "cell_type": "code",
      "execution_count": null,
      "id": "550ae071-813c-4d54-b598-8e301f2dbe33",
      "metadata": {
        "id": "550ae071-813c-4d54-b598-8e301f2dbe33"
      },
      "outputs": [],
      "source": [
        "!pip instal language_tool_python"
      ]
    },
    {
      "cell_type": "markdown",
      "id": "775d8c11-09a8-4456-8f71-0adfe4c7dcce",
      "metadata": {
        "id": "775d8c11-09a8-4456-8f71-0adfe4c7dcce"
      },
      "source": [
        "A célula a seguir deve ser executada apenas uma única vez durante a execução deste notebook."
      ]
    },
    {
      "cell_type": "code",
      "execution_count": null,
      "id": "8079549c-3dbd-4d98-b23f-d3541282326b",
      "metadata": {
        "id": "8079549c-3dbd-4d98-b23f-d3541282326b"
      },
      "outputs": [],
      "source": [
        "import language_tool_python\n",
        "ferramenta = language_tool_python.LanguageTool('pt-BR')"
      ]
    },
    {
      "cell_type": "markdown",
      "id": "4fcfa888-26e5-44b3-b60a-fa4a9e00d200",
      "metadata": {
        "id": "4fcfa888-26e5-44b3-b60a-fa4a9e00d200"
      },
      "source": [
        "A função analise_gramatical() recebe um dataframe contendo redações a serem analisadas e retorna um dataframe contendo o texto analisado e a nota (de 0 a 5) associada com o texto."
      ]
    },
    {
      "cell_type": "code",
      "execution_count": null,
      "id": "9c4ff4a1-42b2-4525-9581-ce9f7fc48eb3",
      "metadata": {
        "id": "9c4ff4a1-42b2-4525-9581-ce9f7fc48eb3"
      },
      "outputs": [],
      "source": [
        "import language_tool_python\n",
        "import pandas as pd\n",
        "\n",
        "def analise_gramatical(df):\n",
        "\n",
        "    amostra = df['essay']\n",
        "    resultados = []\n",
        "\n",
        "    for texto in amostra:\n",
        "        erros = ferramenta.check(texto)\n",
        "\n",
        "        # Cálculo da nota: quanto menos erros, maior a nota\n",
        "        total_palavras = len(texto.split())\n",
        "        total_erros = len(erros)\n",
        "        if total_palavras > 0:\n",
        "            nota = 5 * (1 - total_erros/total_palavras)\n",
        "        else:\n",
        "            nota = 0\n",
        "\n",
        "        resultados.append({\n",
        "            'texto': texto,\n",
        "            'nota_gramatical': round(nota, 2)\n",
        "        })\n",
        "\n",
        "    return pd.DataFrame(resultados)"
      ]
    },
    {
      "cell_type": "code",
      "execution_count": null,
      "id": "fb14edbb-d0c3-4468-8a1f-8a752e2a9c68",
      "metadata": {
        "id": "fb14edbb-d0c3-4468-8a1f-8a752e2a9c68",
        "outputId": "380b9110-7688-4853-cfea-c6e0e013e9a0"
      },
      "outputs": [
        {
          "data": {
            "text/html": [
              "<div>\n",
              "<style scoped>\n",
              "    .dataframe tbody tr th:only-of-type {\n",
              "        vertical-align: middle;\n",
              "    }\n",
              "\n",
              "    .dataframe tbody tr th {\n",
              "        vertical-align: top;\n",
              "    }\n",
              "\n",
              "    .dataframe thead th {\n",
              "        text-align: right;\n",
              "    }\n",
              "</style>\n",
              "<table border=\"1\" class=\"dataframe\">\n",
              "  <thead>\n",
              "    <tr style=\"text-align: right;\">\n",
              "      <th></th>\n",
              "      <th>texto</th>\n",
              "      <th>nota_gramatical</th>\n",
              "    </tr>\n",
              "  </thead>\n",
              "  <tbody>\n",
              "    <tr>\n",
              "      <th>0</th>\n",
              "      <td>['Historicamente, a mulher vem sido colocada e...</td>\n",
              "      <td>4.74</td>\n",
              "    </tr>\n",
              "    <tr>\n",
              "      <th>1</th>\n",
              "      <td>['No panorama atual, tem ganhado visibilidade ...</td>\n",
              "      <td>4.86</td>\n",
              "    </tr>\n",
              "    <tr>\n",
              "      <th>2</th>\n",
              "      <td>['Diz a história brasileira atestada e documen...</td>\n",
              "      <td>4.88</td>\n",
              "    </tr>\n",
              "    <tr>\n",
              "      <th>3</th>\n",
              "      <td>['Hoje a população indígena está cada vez meno...</td>\n",
              "      <td>4.57</td>\n",
              "    </tr>\n",
              "    <tr>\n",
              "      <th>4</th>\n",
              "      <td>['Ao descrever a personagem Iracema no livro d...</td>\n",
              "      <td>4.93</td>\n",
              "    </tr>\n",
              "  </tbody>\n",
              "</table>\n",
              "</div>"
            ],
            "text/plain": [
              "                                               texto  nota_gramatical\n",
              "0  ['Historicamente, a mulher vem sido colocada e...             4.74\n",
              "1  ['No panorama atual, tem ganhado visibilidade ...             4.86\n",
              "2  ['Diz a história brasileira atestada e documen...             4.88\n",
              "3  ['Hoje a população indígena está cada vez meno...             4.57\n",
              "4  ['Ao descrever a personagem Iracema no livro d...             4.93"
            ]
          },
          "execution_count": 5,
          "metadata": {},
          "output_type": "execute_result"
        }
      ],
      "source": [
        "df_total = pd.read_csv(\"extended_essay-br.csv\")\n",
        "amostra = df_total.dropna().sample(n=5)\n",
        "analise_gramatical(amostra)"
      ]
    },
    {
      "cell_type": "markdown",
      "id": "8c614390-5a24-4075-817c-d3ea624ca074",
      "metadata": {
        "id": "8c614390-5a24-4075-817c-d3ea624ca074"
      },
      "source": [
        "## Avaliação\n",
        "Nessa etapa é feita o cálculo da nota da competência 1 baseado nas notas calculadas nas funções de análise ortográfica e gramatical"
      ]
    },
    {
      "cell_type": "code",
      "execution_count": null,
      "id": "3f6152f9-3b4e-4c65-8b38-f5ff232c6662",
      "metadata": {
        "id": "3f6152f9-3b4e-4c65-8b38-f5ff232c6662"
      },
      "outputs": [],
      "source": [
        "import pandas as pd\n",
        "from spellchecker import SpellChecker\n",
        "import random\n",
        "import string\n",
        "\n",
        "def limpar_pontuacao(texto):\n",
        "    texto_limpo = str.maketrans({char: ' ' for char in string.punctuation})\n",
        "    return texto.translate(texto_limpo)\n",
        "\n",
        "def analise_ortografica(df):\n",
        "    spell = SpellChecker(language='pt')  # Para português\n",
        "    amostra = df['essay']\n",
        "\n",
        "    resultados = []\n",
        "    for texto in amostra:\n",
        "        texto_limpo = limpar_pontuacao(texto.lower())\n",
        "        palavras = texto_limpo.split()\n",
        "        total = len(palavras)\n",
        "        erros = spell.unknown(palavras)\n",
        "        if total != 0:\n",
        "            nota = 5 * (1 - len(erros)/total)\n",
        "        else:\n",
        "            nota = 0\n",
        "        resultados.append({\n",
        "            'texto': texto,\n",
        "            'nota_ortografia': round(nota, 2)\n",
        "        })\n",
        "\n",
        "    return pd.DataFrame(resultados)\n",
        "\n",
        "def analise_gramatical(df):\n",
        "\n",
        "    amostra = df['essay']\n",
        "    resultados = []\n",
        "\n",
        "    for texto in amostra:\n",
        "        erros = ferramenta.check(texto)\n",
        "\n",
        "        # Cálculo da nota: quanto menos erros, maior a nota\n",
        "        total_palavras = len(texto.split())\n",
        "        total_erros = len(erros)\n",
        "        if total_palavras > 0:\n",
        "            nota = 5 * (1 - total_erros/total_palavras)\n",
        "        else:\n",
        "            nota = 0\n",
        "\n",
        "        resultados.append({\n",
        "            'texto': texto,\n",
        "            'nota_gramatical': round(nota, 2)\n",
        "        })\n",
        "\n",
        "    return pd.DataFrame(resultados)"
      ]
    },
    {
      "cell_type": "markdown",
      "id": "e1505d17-2176-4f72-82f0-a9483724b158",
      "metadata": {
        "id": "e1505d17-2176-4f72-82f0-a9483724b158"
      },
      "source": [
        "A função analise_c1() recebe um dataframe contendo as redações e retorna um dataframe contendo o texto analisado, a nota associada à ortografia, a nota associada à gramática, a nota c1 calculada a partir das duas notas anteriores e a nota da competência 1 atribuída ao texto pelo corpus original"
      ]
    },
    {
      "cell_type": "code",
      "execution_count": null,
      "id": "77b22305-dec2-4c80-bfa0-7794688a350e",
      "metadata": {
        "id": "77b22305-dec2-4c80-bfa0-7794688a350e"
      },
      "outputs": [],
      "source": [
        "def analise_c1(amostra):\n",
        "    ortografia = analise_ortografica(amostra)\n",
        "    gramatica = analise_gramatical(amostra)\n",
        "    analise = pd.concat([ortografia, gramatica['nota_gramatical']], axis=1)\n",
        "    analise['c1_calculada'] = round(((round((analise['nota_ortografia']+analise['nota_gramatical']) / 2, 2) - 4.25) / 0.75) * 5, 0) * 40\n",
        "    analise.loc[analise['c1_calculada'] < 0] = 0\n",
        "    analise['c1'] = amostra['c1'].values\n",
        "    #resultados = pd.concat([analise, amostra['c1']], axis=1)\n",
        "    return analise"
      ]
    },
    {
      "cell_type": "code",
      "execution_count": null,
      "id": "c7fcd8bc-b672-40a3-b15f-c33e2a6f1c4f",
      "metadata": {
        "id": "c7fcd8bc-b672-40a3-b15f-c33e2a6f1c4f",
        "outputId": "19e34e1e-50df-4b38-9fa2-21d137744669"
      },
      "outputs": [
        {
          "data": {
            "text/html": [
              "<div>\n",
              "<style scoped>\n",
              "    .dataframe tbody tr th:only-of-type {\n",
              "        vertical-align: middle;\n",
              "    }\n",
              "\n",
              "    .dataframe tbody tr th {\n",
              "        vertical-align: top;\n",
              "    }\n",
              "\n",
              "    .dataframe thead th {\n",
              "        text-align: right;\n",
              "    }\n",
              "</style>\n",
              "<table border=\"1\" class=\"dataframe\">\n",
              "  <thead>\n",
              "    <tr style=\"text-align: right;\">\n",
              "      <th></th>\n",
              "      <th>texto</th>\n",
              "      <th>nota_ortografia</th>\n",
              "      <th>nota_gramatical</th>\n",
              "      <th>c1_calculada</th>\n",
              "      <th>c1</th>\n",
              "    </tr>\n",
              "  </thead>\n",
              "  <tbody>\n",
              "    <tr>\n",
              "      <th>0</th>\n",
              "      <td>['É indiscutível que a prática esportiva é uma...</td>\n",
              "      <td>4.88</td>\n",
              "      <td>4.97</td>\n",
              "      <td>160.0</td>\n",
              "      <td>160</td>\n",
              "    </tr>\n",
              "    <tr>\n",
              "      <th>1</th>\n",
              "      <td>['Os índices de violência nos grandes centros ...</td>\n",
              "      <td>4.91</td>\n",
              "      <td>4.95</td>\n",
              "      <td>200.0</td>\n",
              "      <td>120</td>\n",
              "    </tr>\n",
              "    <tr>\n",
              "      <th>2</th>\n",
              "      <td>['É notório que a reforma do ensino médio no B...</td>\n",
              "      <td>4.84</td>\n",
              "      <td>4.80</td>\n",
              "      <td>160.0</td>\n",
              "      <td>80</td>\n",
              "    </tr>\n",
              "    <tr>\n",
              "      <th>3</th>\n",
              "      <td>['Na era em que vivemos  o número cada vez mai...</td>\n",
              "      <td>4.82</td>\n",
              "      <td>4.88</td>\n",
              "      <td>160.0</td>\n",
              "      <td>120</td>\n",
              "    </tr>\n",
              "    <tr>\n",
              "      <th>4</th>\n",
              "      <td>['Sem dúvidas nenhuma, a homossexualidade nunc...</td>\n",
              "      <td>4.96</td>\n",
              "      <td>4.93</td>\n",
              "      <td>200.0</td>\n",
              "      <td>120</td>\n",
              "    </tr>\n",
              "    <tr>\n",
              "      <th>5</th>\n",
              "      <td>['“Uma barragem da mineradora Vale se rompe em...</td>\n",
              "      <td>4.79</td>\n",
              "      <td>4.83</td>\n",
              "      <td>160.0</td>\n",
              "      <td>120</td>\n",
              "    </tr>\n",
              "    <tr>\n",
              "      <th>6</th>\n",
              "      <td>['Existem varios tipos de preconceito. Isso ve...</td>\n",
              "      <td>4.82</td>\n",
              "      <td>4.74</td>\n",
              "      <td>160.0</td>\n",
              "      <td>160</td>\n",
              "    </tr>\n",
              "    <tr>\n",
              "      <th>7</th>\n",
              "      <td>['Na novela “A força do querer” levanta a tese...</td>\n",
              "      <td>4.81</td>\n",
              "      <td>4.85</td>\n",
              "      <td>160.0</td>\n",
              "      <td>160</td>\n",
              "    </tr>\n",
              "    <tr>\n",
              "      <th>8</th>\n",
              "      <td>['Isaac Newton foi um cientista inglês que dis...</td>\n",
              "      <td>4.81</td>\n",
              "      <td>4.95</td>\n",
              "      <td>160.0</td>\n",
              "      <td>160</td>\n",
              "    </tr>\n",
              "    <tr>\n",
              "      <th>9</th>\n",
              "      <td>['\"Toda pessoa tem direito a um nível de vida ...</td>\n",
              "      <td>4.87</td>\n",
              "      <td>4.82</td>\n",
              "      <td>160.0</td>\n",
              "      <td>160</td>\n",
              "    </tr>\n",
              "    <tr>\n",
              "      <th>10</th>\n",
              "      <td>['É evidente que a greve dos caminhoneiros, oc...</td>\n",
              "      <td>4.84</td>\n",
              "      <td>4.86</td>\n",
              "      <td>160.0</td>\n",
              "      <td>120</td>\n",
              "    </tr>\n",
              "    <tr>\n",
              "      <th>11</th>\n",
              "      <td>['A Declaração Universal dos Direitos Humanos-...</td>\n",
              "      <td>4.97</td>\n",
              "      <td>4.64</td>\n",
              "      <td>160.0</td>\n",
              "      <td>160</td>\n",
              "    </tr>\n",
              "    <tr>\n",
              "      <th>12</th>\n",
              "      <td>['Desde a revolução Revolução industrial, houv...</td>\n",
              "      <td>4.95</td>\n",
              "      <td>4.90</td>\n",
              "      <td>200.0</td>\n",
              "      <td>160</td>\n",
              "    </tr>\n",
              "    <tr>\n",
              "      <th>13</th>\n",
              "      <td>['Um                 mal da sociedade         ...</td>\n",
              "      <td>4.83</td>\n",
              "      <td>4.02</td>\n",
              "      <td>40.0</td>\n",
              "      <td>80</td>\n",
              "    </tr>\n",
              "    <tr>\n",
              "      <th>14</th>\n",
              "      <td>['A automedicação é de grande importância no p...</td>\n",
              "      <td>4.93</td>\n",
              "      <td>4.60</td>\n",
              "      <td>120.0</td>\n",
              "      <td>120</td>\n",
              "    </tr>\n",
              "    <tr>\n",
              "      <th>15</th>\n",
              "      <td>['Tema: Desafios da educação a distância no Br...</td>\n",
              "      <td>4.96</td>\n",
              "      <td>4.90</td>\n",
              "      <td>200.0</td>\n",
              "      <td>160</td>\n",
              "    </tr>\n",
              "    <tr>\n",
              "      <th>16</th>\n",
              "      <td>['Desde a aprovação parcial do porte de armas ...</td>\n",
              "      <td>4.84</td>\n",
              "      <td>4.97</td>\n",
              "      <td>160.0</td>\n",
              "      <td>160</td>\n",
              "    </tr>\n",
              "    <tr>\n",
              "      <th>17</th>\n",
              "      <td>['Andar armado nas ruas é um assunto que gera ...</td>\n",
              "      <td>4.97</td>\n",
              "      <td>4.87</td>\n",
              "      <td>160.0</td>\n",
              "      <td>120</td>\n",
              "    </tr>\n",
              "    <tr>\n",
              "      <th>18</th>\n",
              "      <td>['Primeiro temos que compreender a diferença e...</td>\n",
              "      <td>4.96</td>\n",
              "      <td>4.83</td>\n",
              "      <td>160.0</td>\n",
              "      <td>80</td>\n",
              "    </tr>\n",
              "    <tr>\n",
              "      <th>19</th>\n",
              "      <td>['Desde a         idade média         ,       ...</td>\n",
              "      <td>4.87</td>\n",
              "      <td>4.28</td>\n",
              "      <td>80.0</td>\n",
              "      <td>120</td>\n",
              "    </tr>\n",
              "  </tbody>\n",
              "</table>\n",
              "</div>"
            ],
            "text/plain": [
              "                                                texto  nota_ortografia  \\\n",
              "0   ['É indiscutível que a prática esportiva é uma...             4.88   \n",
              "1   ['Os índices de violência nos grandes centros ...             4.91   \n",
              "2   ['É notório que a reforma do ensino médio no B...             4.84   \n",
              "3   ['Na era em que vivemos  o número cada vez mai...             4.82   \n",
              "4   ['Sem dúvidas nenhuma, a homossexualidade nunc...             4.96   \n",
              "5   ['“Uma barragem da mineradora Vale se rompe em...             4.79   \n",
              "6   ['Existem varios tipos de preconceito. Isso ve...             4.82   \n",
              "7   ['Na novela “A força do querer” levanta a tese...             4.81   \n",
              "8   ['Isaac Newton foi um cientista inglês que dis...             4.81   \n",
              "9   ['\"Toda pessoa tem direito a um nível de vida ...             4.87   \n",
              "10  ['É evidente que a greve dos caminhoneiros, oc...             4.84   \n",
              "11  ['A Declaração Universal dos Direitos Humanos-...             4.97   \n",
              "12  ['Desde a revolução Revolução industrial, houv...             4.95   \n",
              "13  ['Um                 mal da sociedade         ...             4.83   \n",
              "14  ['A automedicação é de grande importância no p...             4.93   \n",
              "15  ['Tema: Desafios da educação a distância no Br...             4.96   \n",
              "16  ['Desde a aprovação parcial do porte de armas ...             4.84   \n",
              "17  ['Andar armado nas ruas é um assunto que gera ...             4.97   \n",
              "18  ['Primeiro temos que compreender a diferença e...             4.96   \n",
              "19  ['Desde a         idade média         ,       ...             4.87   \n",
              "\n",
              "    nota_gramatical  c1_calculada   c1  \n",
              "0              4.97         160.0  160  \n",
              "1              4.95         200.0  120  \n",
              "2              4.80         160.0   80  \n",
              "3              4.88         160.0  120  \n",
              "4              4.93         200.0  120  \n",
              "5              4.83         160.0  120  \n",
              "6              4.74         160.0  160  \n",
              "7              4.85         160.0  160  \n",
              "8              4.95         160.0  160  \n",
              "9              4.82         160.0  160  \n",
              "10             4.86         160.0  120  \n",
              "11             4.64         160.0  160  \n",
              "12             4.90         200.0  160  \n",
              "13             4.02          40.0   80  \n",
              "14             4.60         120.0  120  \n",
              "15             4.90         200.0  160  \n",
              "16             4.97         160.0  160  \n",
              "17             4.87         160.0  120  \n",
              "18             4.83         160.0   80  \n",
              "19             4.28          80.0  120  "
            ]
          },
          "execution_count": 6,
          "metadata": {},
          "output_type": "execute_result"
        }
      ],
      "source": [
        "df_total = pd.read_csv(\"extended_essay-br.csv\")\n",
        "amostra = df_total.dropna().sample(n=20)\n",
        "analise_c1(amostra)"
      ]
    },
    {
      "cell_type": "code",
      "execution_count": null,
      "id": "6e604797-3fda-4477-98bd-0be5ae8a82c3",
      "metadata": {
        "id": "6e604797-3fda-4477-98bd-0be5ae8a82c3"
      },
      "outputs": [],
      "source": [
        "df_total = pd.read_csv(\"extended_essay-br.csv\")\n",
        "#amostra = df_total.dropna().sample(n=200)\n",
        "dados = analise_c1(df_total.dropna())"
      ]
    },
    {
      "cell_type": "code",
      "execution_count": null,
      "id": "f09ec49e-0fe3-4b31-8c80-f3c943d72e16",
      "metadata": {
        "id": "f09ec49e-0fe3-4b31-8c80-f3c943d72e16",
        "outputId": "28c1b185-7ebe-4b27-de36-043d70f245c6"
      },
      "outputs": [
        {
          "data": {
            "image/png": "[encoded data removed]",
            "text/plain": [
              "<Figure size 640x480 with 1 Axes>"
            ]
          },
          "metadata": {},
          "output_type": "display_data"
        },
        {
          "data": {
            "image/png": "[encoded data removed]",
            "text/plain": [
              "<Figure size 640x480 with 1 Axes>"
            ]
          },
          "metadata": {},
          "output_type": "display_data"
        },
        {
          "data": {
            "image/png": "[encoded data removed]",
            "text/plain": [
              "<Figure size 640x480 with 1 Axes>"
            ]
          },
          "metadata": {},
          "output_type": "display_data"
        },
        {
          "data": {
            "image/png": "[encoded data removed]",
            "text/plain": [
              "<Figure size 640x480 with 1 Axes>"
            ]
          },
          "metadata": {},
          "output_type": "display_data"
        },
        {
          "name": "stdout",
          "output_type": "stream",
          "text": [
            "Precisao: 37.46\n"
          ]
        }
      ],
      "source": [
        "import matplotlib.pyplot as plt\n",
        "import seaborn as sns\n",
        "\n",
        "df_total['c1'].value_counts().sort_index().plot(kind='bar',color='skyblue')\n",
        "plt.xlabel('Notas')\n",
        "plt.ylabel('Frequência')\n",
        "plt.title('Notas C1 do corpus')\n",
        "plt.show()\n",
        "\n",
        "sns.boxplot(x='c1', y='nota_ortografia', data=dados)\n",
        "plt.xlabel('Notas do corpus')\n",
        "plt.ylabel('Notas de ortografia calculadas')\n",
        "plt.title('Comparação entre notas (ortografia)')\n",
        "plt.show()\n",
        "\n",
        "sns.boxplot(x='c1', y='nota_gramatical', data=dados)\n",
        "plt.xlabel('Notas do corpus')\n",
        "plt.ylabel('Notas de gramática calculadas')\n",
        "plt.title('Comparação entre notas (gramática)')\n",
        "plt.show()\n",
        "\n",
        "sns.boxplot(x='c1', y='c1_calculada', data=dados)\n",
        "plt.xlabel('Notas do corpus')\n",
        "plt.ylabel('Notas calculadas')\n",
        "plt.title('Comparação entre notas')\n",
        "plt.show()\n",
        "\n",
        "precisao = 100 * (dados['c1'] == dados['c1_calculada']).mean()\n",
        "print(f'Precisao: {precisao:.2f}')"
      ]
    }
  ],
  "metadata": {
    "kernelspec": {
      "display_name": "Python 3 (ipykernel)",
      "language": "python",
      "name": "python3"
    },
    "language_info": {
      "codemirror_mode": {
        "name": "ipython",
        "version": 3
      },
      "file_extension": ".py",
      "mimetype": "text/x-python",
      "name": "python",
      "nbconvert_exporter": "python",
      "pygments_lexer": "ipython3",
      "version": "3.12.4"
    },
    "colab": {
      "provenance": []
    }
  },
  "nbformat": 4,
  "nbformat_minor": 5
}